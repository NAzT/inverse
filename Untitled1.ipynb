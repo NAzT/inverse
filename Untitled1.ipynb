{
 "cells": [
  {
   "cell_type": "code",
   "execution_count": 1,
   "metadata": {},
   "outputs": [
    {
     "name": "stdout",
     "output_type": "stream",
     "text": [
      "Untitled.ipynb  \u001b[1m\u001b[31mgym-foo\u001b[m\u001b[m         inverse.py\n",
      "Untitled1.ipynb \u001b[1m\u001b[31mgym-soccer\u001b[m\u001b[m      rl.py\n"
     ]
    }
   ],
   "source": [
    "!ls"
   ]
  },
  {
   "cell_type": "code",
   "execution_count": 1,
   "metadata": {},
   "outputs": [],
   "source": [
    "# import gym\n",
    "\n",
    "# env = gym.make('nat-v0')\n",
    "import time"
   ]
  },
  {
   "cell_type": "code",
   "execution_count": 1,
   "metadata": {},
   "outputs": [],
   "source": [
    "from scipy.interpolate import interp1d\n",
    "# while True:\n",
    "#     clock.tick()\n",
    "#     fps = clock.get_fps()\n",
    "#     print(fps)"
   ]
  },
  {
   "cell_type": "code",
   "execution_count": null,
   "metadata": {},
   "outputs": [
    {
     "name": "stdout",
     "output_type": "stream",
     "text": [
      "/dev/tty.usbserial-1410\n",
      "Serial<id=0x10a92a490, open=True>(port='/dev/tty.usbserial-1410', baudrate=115200, bytesize=8, parity='N', stopbits=1, timeout=None, xonxoff=False, rtscts=False, dsrdtr=False)\n"
     ]
    }
   ],
   "source": [
    "import gym\n",
    "import gym_nat\n",
    "import time\n",
    "import threading\n",
    "# clock = pygame.time.Clock()\n",
    "\n",
    "env = gym.make(\"nat-v0\")\n",
    "observation = env.reset()\n",
    "# clock = pygame.time.Clock()\n",
    "\n",
    "# ready = False\n",
    "# def render(env):\n",
    "#     global ready\n",
    "#     while True:\n",
    "#         if not ready:\n",
    "#             continue\n",
    "#         action = env.action_space.sample() # your agent here (this takes random actions)        \n",
    "#         res = env.step(action)\n",
    "#         if res:\n",
    "#             observation, reward, done, info = res\n",
    "#         time.sleep(.5)\n",
    "\n",
    "    \n",
    "# thread = threading.Thread(target=render, args=(env,))\n",
    "# thread.start()\n",
    "\n",
    "start_time = time.time() # start time of the loop    \n",
    "env.reset()\n",
    "while True:\n",
    "    env.render()\n",
    "    action = env.action_space.sample() # your agent here (this takes random actions)\n",
    "    print(time.time() - start_time)\n",
    "#     if time.time() - start_time > 1:\n",
    "# #         env.step(action)\n",
    "#         start_time = time.time()\n",
    "#         print(\"K\")\n",
    "    time.sleep(0.01)\n",
    "#     ready = True    \n",
    "#     print()\n",
    "#     print('ts=', time.time() - start_time)\n",
    "#     start_time = time.time()\n",
    "#     print(\"FPS: \", 1.0 / (time.time() - start_time))\n",
    "env.close()\n",
    "print(\"done\")"
   ]
  },
  {
   "cell_type": "code",
   "execution_count": 1,
   "metadata": {},
   "outputs": [],
   "source": [
    "# s"
   ]
  },
  {
   "cell_type": "code",
   "execution_count": null,
   "metadata": {},
   "outputs": [],
   "source": []
  }
 ],
 "metadata": {
  "kernelspec": {
   "display_name": "Python 3",
   "language": "python",
   "name": "python3"
  },
  "language_info": {
   "codemirror_mode": {
    "name": "ipython",
    "version": 3
   },
   "file_extension": ".py",
   "mimetype": "text/x-python",
   "name": "python",
   "nbconvert_exporter": "python",
   "pygments_lexer": "ipython3",
   "version": "3.7.7"
  }
 },
 "nbformat": 4,
 "nbformat_minor": 4
}
